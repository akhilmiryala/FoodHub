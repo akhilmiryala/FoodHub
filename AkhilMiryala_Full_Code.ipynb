{
 "cells": [
  {
   "cell_type": "markdown",
   "metadata": {
    "id": "Gc8x8QimJY_H"
   },
   "source": [
    "# Project Python Foundations: FoodHub Data Analysis"
   ]
  },
  {
   "cell_type": "markdown",
   "metadata": {
    "id": "NqikjkWwJY_L"
   },
   "source": [
    "### Context\n",
    "\n",
    "The number of restaurants in New York is increasing day by day. Lots of students and busy professionals rely on those restaurants due to their hectic lifestyles. Online food delivery service is a great option for them. It provides them with good food from their favorite restaurants. A food aggregator company FoodHub offers access to multiple restaurants through a single smartphone app.\n",
    "\n",
    "The app allows the restaurants to receive a direct online order from a customer. The app assigns a delivery person from the company to pick up the order after it is confirmed by the restaurant. The delivery person then uses the map to reach the restaurant and waits for the food package. Once the food package is handed over to the delivery person, he/she confirms the pick-up in the app and travels to the customer's location to deliver the food. The delivery person confirms the drop-off in the app after delivering the food package to the customer. The customer can rate the order in the app. The food aggregator earns money by collecting a fixed margin of the delivery order from the restaurants.\n",
    "\n",
    "### Objective\n",
    "\n",
    "The food aggregator company has stored the data of the different orders made by the registered customers in their online portal. They want to analyze the data to get a fair idea about the demand of different restaurants which will help them in enhancing their customer experience. Suppose you are hired as a Data Scientist in this company and the Data Science team has shared some of the key questions that need to be answered. Perform the data analysis to find answers to these questions that will help the company to improve the business.\n",
    "\n",
    "### Data Description\n",
    "\n",
    "The data contains the different data related to a food order. The detailed data dictionary is given below.\n",
    "\n",
    "### Data Dictionary\n",
    "\n",
    "* order_id: Unique ID of the order\n",
    "* customer_id: ID of the customer who ordered the food\n",
    "* restaurant_name: Name of the restaurant\n",
    "* cuisine_type: Cuisine ordered by the customer\n",
    "* cost_of_the_order: Cost of the order\n",
    "* day_of_the_week: Indicates whether the order is placed on a weekday or weekend (The weekday is from Monday to Friday and the weekend is Saturday and Sunday)\n",
    "* rating: Rating given by the customer out of 5\n",
    "* food_preparation_time: Time (in minutes) taken by the restaurant to prepare the food. This is calculated by taking the difference between the timestamps of the restaurant's order confirmation and the delivery person's pick-up confirmation.\n",
    "* delivery_time: Time (in minutes) taken by the delivery person to deliver the food package. This is calculated by taking the difference between the timestamps of the delivery person's pick-up confirmation and drop-off information"
   ]
  },
  {
   "cell_type": "markdown",
   "metadata": {
    "id": "cEtNUxNAJY_M"
   },
   "source": [
    "### Let us start by importing the required libraries"
   ]
  },
  {
   "cell_type": "code",
   "execution_count": 1,
   "metadata": {},
   "outputs": [
    {
     "name": "stdout",
     "output_type": "stream",
     "text": [
      "Requirement already satisfied: setuptools in /opt/anaconda3/lib/python3.12/site-packages (77.0.3)\n",
      "Note: you may need to restart the kernel to use updated packages.\n"
     ]
    }
   ],
   "source": [
    "pip install --upgrade setuptools"
   ]
  },
  {
   "cell_type": "code",
   "execution_count": 2,
   "metadata": {
    "colab": {
     "base_uri": "https://localhost:8080/"
    },
    "id": "_aG-ZzhYXs_1",
    "outputId": "c3019112-5fa5-4256-dacb-ba80e9cd2e92"
   },
   "outputs": [],
   "source": [
    "!pip install numpy==1.26.4 -q --user"
   ]
  },
  {
   "cell_type": "code",
   "execution_count": null,
   "metadata": {},
   "outputs": [],
   "source": [
    "!pip install pandas==1.5.3 -q --user"
   ]
  },
  {
   "cell_type": "code",
   "execution_count": null,
   "metadata": {},
   "outputs": [],
   "source": [
    "!pip install matplotlib==3.7.1 -q --user"
   ]
  },
  {
   "cell_type": "code",
   "execution_count": null,
   "metadata": {},
   "outputs": [],
   "source": [
    "!pip install seaborn==0.13.1 -q --user"
   ]
  },
  {
   "cell_type": "code",
   "execution_count": null,
   "metadata": {},
   "outputs": [],
   "source": []
  },
  {
   "cell_type": "markdown",
   "metadata": {
    "id": "7ueES9WOzI5X"
   },
   "source": [
    "**Note**: *After running the above cell, kindly restart the notebook kernel and run all cells sequentially from the start again.*"
   ]
  },
  {
   "cell_type": "code",
   "execution_count": null,
   "metadata": {
    "id": "u6PlpJAPJY_N"
   },
   "outputs": [],
   "source": [
    "# import libraries for data manipulation\n",
    "import numpy as np\n",
    "import pandas as pd\n",
    "\n",
    "# import libraries for data visualization\n",
    "import matplotlib.pyplot as plt\n",
    "import seaborn as sns"
   ]
  },
  {
   "cell_type": "markdown",
   "metadata": {
    "id": "AdracY0HJY_O"
   },
   "source": [
    "### Understanding the structure of the data"
   ]
  },
  {
   "cell_type": "code",
   "execution_count": null,
   "metadata": {
    "colab": {
     "base_uri": "https://localhost:8080/"
    },
    "id": "WBh2ZGB9kFhU",
    "outputId": "c096be58-a8d8-4a2d-e3de-e20afb3338c7"
   },
   "outputs": [],
   "source": [
    "from google.colab import drive\n",
    "drive.mount('/content/drive')"
   ]
  },
  {
   "cell_type": "code",
   "execution_count": null,
   "metadata": {
    "id": "GF01IZDbJY_O",
    "scrolled": true
   },
   "outputs": [],
   "source": [
    "df = pd.read_csv('/content/foodhub_order.csv')"
   ]
  },
  {
   "cell_type": "code",
   "execution_count": null,
   "metadata": {
    "colab": {
     "base_uri": "https://localhost:8080/",
     "height": 278
    },
    "id": "v32Z7ZZQVYB3",
    "outputId": "df9cadeb-7934-40e4-9841-1c0f9dbb4774"
   },
   "outputs": [],
   "source": [
    "df.head()"
   ]
  },
  {
   "cell_type": "markdown",
   "metadata": {
    "id": "c3kenV4vJY_Q"
   },
   "source": [
    "### **Question 1:** How many rows and columns are present in the data? [0.5 mark]"
   ]
  },
  {
   "cell_type": "code",
   "execution_count": null,
   "metadata": {
    "colab": {
     "base_uri": "https://localhost:8080/"
    },
    "id": "Yvz5i-PhJY_Q",
    "outputId": "aa5a29a4-2d8c-4f98-a0ee-2a6f0915463f"
   },
   "outputs": [],
   "source": [
    "print(df.shape[0])\n",
    "print(df.shape[1])"
   ]
  },
  {
   "cell_type": "markdown",
   "metadata": {
    "id": "UsTNy3unJY_R"
   },
   "source": [
    "\n",
    "\n",
    "```\n",
    "# This is formatted as code\n",
    "```\n",
    "\n",
    "#### Observations: There are 1898 rows and 9 columns.\n"
   ]
  },
  {
   "cell_type": "markdown",
   "metadata": {
    "id": "jRXakVrUJY_R"
   },
   "source": [
    "### **Question 2:** What are the datatypes of the different columns in the dataset? (The info() function can be used) [0.5 mark]"
   ]
  },
  {
   "cell_type": "code",
   "execution_count": null,
   "metadata": {
    "colab": {
     "base_uri": "https://localhost:8080/"
    },
    "id": "Kp70Z0BNJY_R",
    "outputId": "97cb2f85-ed6e-4ba8-b082-ca8b70849483"
   },
   "outputs": [],
   "source": [
    "df.info()"
   ]
  },
  {
   "cell_type": "markdown",
   "metadata": {
    "id": "WJes5GP2JY_S"
   },
   "source": [
    "#### Observations: There are 4 int64 data types, 4 object data types, and 1 float64 data type.\n"
   ]
  },
  {
   "cell_type": "markdown",
   "metadata": {
    "id": "pF_92MN6JY_S"
   },
   "source": [
    "### **Question 3:** Are there any missing values in the data? If yes, treat them using an appropriate method. [1 mark]"
   ]
  },
  {
   "cell_type": "code",
   "execution_count": null,
   "metadata": {
    "colab": {
     "base_uri": "https://localhost:8080/",
     "height": 366
    },
    "id": "Zth-RR1PJY_S",
    "outputId": "07b3e279-f59e-4874-d3e8-353e7e8f8312"
   },
   "outputs": [],
   "source": [
    "df.isnull().sum()"
   ]
  },
  {
   "cell_type": "markdown",
   "metadata": {
    "id": "jDHT3vD1JY_S"
   },
   "source": [
    "#### Observations: There are no missing values in the data.\n"
   ]
  },
  {
   "cell_type": "markdown",
   "metadata": {
    "id": "MnJo7MWrJY_S"
   },
   "source": [
    "### **Question 4:** Check the statistical summary of the data. What is the minimum, average, and maximum time it takes for food to be prepared once an order is placed? [2 marks]"
   ]
  },
  {
   "cell_type": "code",
   "execution_count": null,
   "metadata": {
    "colab": {
     "base_uri": "https://localhost:8080/"
    },
    "id": "WprQBgOSJY_T",
    "outputId": "4f162139-dfeb-4438-a454-4b4b6ae29666"
   },
   "outputs": [],
   "source": [
    "print(df.describe())"
   ]
  },
  {
   "cell_type": "markdown",
   "metadata": {
    "id": "9YbSOR5wJY_T"
   },
   "source": [
    "#### Observations: Minimum is 20 minutes, Maximum is 35 minutes, and average is 27.37 minutes.\n"
   ]
  },
  {
   "cell_type": "markdown",
   "metadata": {
    "id": "cw3l58z_JY_T"
   },
   "source": [
    "### **Question 5:** How many orders are not rated? [1 mark]"
   ]
  },
  {
   "cell_type": "code",
   "execution_count": null,
   "metadata": {
    "colab": {
     "base_uri": "https://localhost:8080/"
    },
    "id": "hEzDUL9wgksi",
    "outputId": "2aa6ce3e-75dc-48da-df63-b1bbab980dbe"
   },
   "outputs": [],
   "source": [
    "print(df['rating'].value_counts().get('Not given'))"
   ]
  },
  {
   "cell_type": "markdown",
   "metadata": {
    "id": "5E0O_oviJY_T"
   },
   "source": [
    "#### Observations: 736\n"
   ]
  },
  {
   "cell_type": "markdown",
   "metadata": {
    "id": "7msIfXE-JY_T"
   },
   "source": [
    "### Exploratory Data Analysis (EDA)"
   ]
  },
  {
   "cell_type": "markdown",
   "metadata": {
    "id": "-2xfI28YJY_T"
   },
   "source": [
    "### Univariate Analysis"
   ]
  },
  {
   "cell_type": "markdown",
   "metadata": {
    "id": "0RHZnugBJY_U"
   },
   "source": [
    "### **Question 6:** Explore all the variables and provide observations on their distributions. (Generally, histograms, boxplots, countplots, etc. are used for univariate exploration.) [9 marks]"
   ]
  },
  {
   "cell_type": "code",
   "execution_count": null,
   "metadata": {
    "colab": {
     "base_uri": "https://localhost:8080/",
     "height": 278
    },
    "id": "9u05uqF6bcF5",
    "outputId": "958b5151-36ac-45eb-f397-76efceece722"
   },
   "outputs": [],
   "source": [
    "df.coumn()"
   ]
  },
  {
   "cell_type": "code",
   "execution_count": null,
   "metadata": {
    "colab": {
     "base_uri": "https://localhost:8080/",
     "height": 1000
    },
    "id": "rU5ZqISjJY_U",
    "outputId": "2b6aba24-a1cd-446c-8380-af6460410e66"
   },
   "outputs": [],
   "source": [
    "df.drop(columns=['customer_id','order_id']).hist(figsize=(12, 8), bins=30, edgecolor='black')\n",
    "plt.show()\n",
    "\n",
    "sns.countplot(x=df['rating'])\n",
    "plt.title('Rating')\n",
    "plt.show()\n",
    "\n",
    "sns.countplot(x=df['day_of_the_week'])\n",
    "plt.ylabel('Number of Orders')\n",
    "plt.title('Day of the Week')\n",
    "plt.show()\n",
    "\n",
    "plt.figure(figsize=(15, 8))\n",
    "sns.countplot(x=df['cuisine_type'])\n",
    "plt.ylabel('Number of Orders')\n",
    "plt.title('Cuisine Type')\n",
    "plt.show()\n",
    "\n",
    "df.drop(columns=['customer_id','order_id']).boxplot(figsize=(12, 8))\n",
    "plt.show()"
   ]
  },
  {
   "cell_type": "markdown",
   "metadata": {
    "id": "DCVpZrzxdPCz"
   },
   "source": []
  },
  {
   "cell_type": "markdown",
   "metadata": {
    "id": "4mvMEvPuehXI"
   },
   "source": [
    "Observations: The most frequent cost of order value is between 10-15 dollars with the majority around the 12 -13 dollar range. Food preparation time varies from 20-35 minutes. Delivery time varies from 15 to 33 minutes with most frequent time being around 25 minutes. For ratings, ‘Not Given’ is the most frequent outcome followed by a rating of 5, 3, then lastly 4. Majority of orders were placed on a weekend rather than weekday. The most frequent cuisine type is American followed Japanese, Italian, and Chinese respectively."
   ]
  },
  {
   "cell_type": "markdown",
   "metadata": {
    "id": "K9CqA5H_JY_U"
   },
   "source": [
    "### **Question 7**: Which are the top 5 restaurants in terms of the number of orders received? [1 mark]"
   ]
  },
  {
   "cell_type": "code",
   "execution_count": null,
   "metadata": {
    "colab": {
     "base_uri": "https://localhost:8080/",
     "height": 446
    },
    "id": "PaJZ3wlOJY_U",
    "outputId": "9de4543e-69aa-4de0-c2af-98af87a8dcf0"
   },
   "outputs": [],
   "source": [
    "top_10_categories = df['restaurant_name'].value_counts().index[:10]\n",
    "plt.figure(figsize=(22, 8))\n",
    "sns.countplot(x=df['restaurant_name'], order = top_10_categories)\n",
    "plt.ylabel('Number of Orders')\n",
    "plt.title('Top 10 Restaurants')\n",
    "plt.show()"
   ]
  },
  {
   "cell_type": "markdown",
   "metadata": {
    "id": "tnjhWgUfJY_U"
   },
   "source": [
    "#### Observations: The top 5 restaurants are Shake Shack, The Meatball Shop, Blue Ribbon Sushi, Blue Ribbon Fried Chicken, and Parm\n"
   ]
  },
  {
   "cell_type": "markdown",
   "metadata": {
    "id": "gWPMqGq0JY_U"
   },
   "source": [
    "### **Question 8**: Which is the most popular cuisine on weekends? [1 mark]"
   ]
  },
  {
   "cell_type": "code",
   "execution_count": null,
   "metadata": {
    "colab": {
     "base_uri": "https://localhost:8080/",
     "height": 305
    },
    "id": "c-Xnus3VJY_U",
    "outputId": "45aafb4e-ed76-46ba-d690-12e2c028928b"
   },
   "outputs": [],
   "source": [
    "filtered_df = df[df['day_of_the_week'] == 'Weekend']\n",
    "top_10_categories = df['restaurant_name'].value_counts().index[:10]\n",
    "\n",
    "# Plotting with Seaborn\n",
    "plt.figure(figsize=(22, 5))\n",
    "sns.countplot(x='restaurant_name', data=filtered_df, order = top_10_categories)\n",
    "plt.title(\"Most Popular Restaurants on Weekends\")\n",
    "plt.show()"
   ]
  },
  {
   "cell_type": "markdown",
   "metadata": {
    "id": "bpQ270TUJY_U"
   },
   "source": [
    "#### Observations: Shake Shack\n"
   ]
  },
  {
   "cell_type": "markdown",
   "metadata": {
    "id": "88xgTqkxJY_U"
   },
   "source": [
    "### **Question 9**: What percentage of the orders cost more than 20 dollars? [2 marks]"
   ]
  },
  {
   "cell_type": "code",
   "execution_count": null,
   "metadata": {
    "colab": {
     "base_uri": "https://localhost:8080/"
    },
    "id": "OTpHyTdzJY_U",
    "outputId": "7ad48e9b-2cb5-44d1-a6b6-2e2df2c3615e"
   },
   "outputs": [],
   "source": [
    "filtered_df = df[df['cost_of_the_order'] > 20]\n",
    "percentage = (filtered_df.shape[0] / df.shape[0]) * 100\n",
    "print(percentage)"
   ]
  },
  {
   "cell_type": "markdown",
   "metadata": {
    "id": "77KNAC5zJY_U"
   },
   "source": [
    "#### Observations: 29.24%\n"
   ]
  },
  {
   "cell_type": "markdown",
   "metadata": {
    "id": "HFyHn7hsJY_V"
   },
   "source": [
    "### **Question 10**: What is the mean order delivery time? [1 mark]"
   ]
  },
  {
   "cell_type": "code",
   "execution_count": null,
   "metadata": {
    "colab": {
     "base_uri": "https://localhost:8080/"
    },
    "id": "cyFL13hNJY_V",
    "outputId": "246e7603-5d5b-47c4-e2fe-df3603f46d52"
   },
   "outputs": [],
   "source": [
    "print(df['delivery_time'].mean())"
   ]
  },
  {
   "cell_type": "markdown",
   "metadata": {
    "id": "F35SRV-HJY_V"
   },
   "source": [
    "#### Observations: 24.16 minutes\n"
   ]
  },
  {
   "cell_type": "markdown",
   "metadata": {
    "id": "48IjaOuDJY_V"
   },
   "source": [
    "### **Question 11:** The company has decided to give 20% discount vouchers to the top 3 most frequent customers. Find the IDs of these customers and the number of orders they placed. [1 mark]"
   ]
  },
  {
   "cell_type": "code",
   "execution_count": null,
   "metadata": {
    "colab": {
     "base_uri": "https://localhost:8080/",
     "height": 210
    },
    "id": "Hz8-DE4Zge0j",
    "outputId": "0538a48d-5e25-4468-ba57-f720d48a8274"
   },
   "outputs": [],
   "source": [
    "df['customer_id'].value_counts().head(3)"
   ]
  },
  {
   "cell_type": "markdown",
   "metadata": {
    "id": "9tWVwfX6JY_V"
   },
   "source": [
    "#### Observations: 52832 - 13 orders, 47440 - 10 orders , 83287 - 9 orders\n"
   ]
  },
  {
   "cell_type": "markdown",
   "metadata": {
    "id": "AfIc2jPaJY_V"
   },
   "source": [
    "### Multivariate Analysis"
   ]
  },
  {
   "cell_type": "markdown",
   "metadata": {
    "id": "iqiS0RT_JY_V"
   },
   "source": [
    "### **Question 12**: Perform a multivariate analysis to explore relationships between the important variables in the dataset. (It is a good idea to explore relations between numerical variables as well as relations between numerical and categorical variables) [10 marks]\n"
   ]
  },
  {
   "cell_type": "code",
   "execution_count": null,
   "metadata": {
    "colab": {
     "base_uri": "https://localhost:8080/",
     "height": 1000
    },
    "id": "3qt4MCNTJY_V",
    "outputId": "391dd247-067a-4185-e5b3-3395c06f63a4"
   },
   "outputs": [],
   "source": [
    "sns.scatterplot(data=df, x='cost_of_the_order', y='delivery_time', hue='day_of_the_week', style='day_of_the_week')\n",
    "plt.title(\"Delivery time vs Cost based on day of the week\")\n",
    "plt.show()\n",
    "\n",
    "plt.figure(figsize=(18, 8))\n",
    "sns.boxplot(data=df, x='cuisine_type', y='food_preparation_time', hue='day_of_the_week')\n",
    "plt.title(\"Food Prep Time vs Cuisine Type\")\n",
    "\n",
    "plt.figure(figsize=(8,6))\n",
    "corr = df[['delivery_time', 'cost_of_the_order','food_preparation_time']].corr()\n",
    "sns.heatmap(corr, annot=True, cmap='coolwarm')\n",
    "plt.title('Correlation Heatmap')\n",
    "plt.show()\n",
    "\n",
    "top_10_categories = df['restaurant_name'].value_counts().index[:10]\n",
    "plt.figure(figsize=(22, 8))\n",
    "sns.barplot(x='restaurant_name', y='delivery_time', data=df, ci= None, order = top_10_categories)\n",
    "plt.show()"
   ]
  },
  {
   "cell_type": "markdown",
   "metadata": {
    "id": "YLkMf09YJY_V"
   },
   "source": [
    "### **Question 13:** The company wants to provide a promotional offer in the advertisement of the restaurants. The condition to get the offer is that the restaurants must have a rating count of more than 50 and the average rating should be greater than 4. Find the restaurants fulfilling the criteria to get the promotional offer. [3 marks]"
   ]
  },
  {
   "cell_type": "code",
   "execution_count": null,
   "metadata": {
    "colab": {
     "base_uri": "https://localhost:8080/"
    },
    "id": "0M_QDvbYJY_V",
    "outputId": "3710afc8-1af4-40c1-afd3-49a411614466"
   },
   "outputs": [],
   "source": [
    "df['rating'] = pd.to_numeric(df['rating'], errors='coerce')\n",
    "avg_rating = df.groupby('restaurant_name')['rating'].mean()\n",
    "rating_count = df.groupby('restaurant_name')['rating'].count()\n",
    "filtered_restaurants = df[(df['rating_count'] > 50) & (df['avg_rating'] > 4)]\n",
    "qualifying_names = filtered_restaurants.index.tolist()\n",
    "print(qualifying_names)"
   ]
  },
  {
   "cell_type": "code",
   "execution_count": null,
   "metadata": {
    "colab": {
     "base_uri": "https://localhost:8080/"
    },
    "id": "Ool9pOktL7G0",
    "outputId": "917f4740-99ec-4edc-acad-b11f28101877"
   },
   "outputs": [],
   "source": [
    "df['rating'] = pd.to_numeric(df['rating'], errors='coerce')\n",
    "grouped_df = df.groupby('restaurant_name').agg(\n",
    "    rating_count=('rating', 'count'),\n",
    "    avg_rating=('rating', 'mean')).reset_index()\n",
    "filtered_restaurants = grouped_df[(grouped_df['rating_count'] > 50) & (grouped_df['avg_rating'] > 4)]\n",
    "print(filtered_restaurants)"
   ]
  },
  {
   "cell_type": "markdown",
   "metadata": {
    "id": "10uryUMhJY_V"
   },
   "source": [
    "#### Observations: Blue Ribbon Fried Chicken, Blue Ribbon Sushi, Shake Shack, The Meatball Shop\n"
   ]
  },
  {
   "cell_type": "markdown",
   "metadata": {
    "id": "1gvWBkRUJY_V"
   },
   "source": [
    "### **Question 14:** The company charges the restaurant 25% on the orders having cost greater than 20 dollars and 15% on the orders having cost greater than 5 dollars. Find the net revenue generated by the company across all orders. [3 marks]"
   ]
  },
  {
   "cell_type": "code",
   "execution_count": null,
   "metadata": {
    "colab": {
     "base_uri": "https://localhost:8080/"
    },
    "id": "rEjbnTNEJY_W",
    "outputId": "9f15c8da-4814-486d-e7c1-3b2ccfce5206"
   },
   "outputs": [],
   "source": [
    "def calculate_revenue(order_cost):\n",
    "    if order_cost > 20:\n",
    "        return order_cost * 0.25\n",
    "    elif order_cost > 5:\n",
    "        return order_cost * 0.15\n",
    "    else:\n",
    "        return 0\n",
    "df['revenue'] = df['cost_of_the_order'].apply(calculate_revenue)\n",
    "total_revenue = df['revenue'].sum()\n",
    "print(total_revenue)"
   ]
  },
  {
   "cell_type": "markdown",
   "metadata": {
    "id": "XHCEJgH0JY_W"
   },
   "source": [
    "#### Observations: $6166.30\n"
   ]
  },
  {
   "cell_type": "markdown",
   "metadata": {
    "id": "pRlVW-oeJY_W"
   },
   "source": [
    "### **Question 15:** The company wants to analyze the total time required to deliver the food. What percentage of orders take more than 60 minutes to get delivered from the time the order is placed? (The food has to be prepared and then delivered.) [2 marks]"
   ]
  },
  {
   "cell_type": "code",
   "execution_count": null,
   "metadata": {
    "colab": {
     "base_uri": "https://localhost:8080/"
    },
    "id": "zxoTrxfLJY_W",
    "outputId": "44a4dd29-70aa-4e9f-b604-99f4fae4bd34"
   },
   "outputs": [],
   "source": [
    "delivery_time = df['food_preparation_time'] + df['delivery_time']\n",
    "percentage = (delivery_time[delivery_time > 60].count() / delivery_time.count()) * 100\n",
    "print(percentage)"
   ]
  },
  {
   "cell_type": "markdown",
   "metadata": {
    "id": "iqzBXn2yJY_W"
   },
   "source": [
    "#### Observations: 10.54%\n"
   ]
  },
  {
   "cell_type": "markdown",
   "metadata": {
    "id": "bUd6cYpPJY_W"
   },
   "source": [
    "### **Question 16:** The company wants to analyze the delivery time of the orders on weekdays and weekends. How does the mean delivery time vary during weekdays and weekends? [2 marks]"
   ]
  },
  {
   "cell_type": "code",
   "execution_count": null,
   "metadata": {
    "colab": {
     "base_uri": "https://localhost:8080/",
     "height": 178
    },
    "id": "pIU5xZZ6JY_W",
    "outputId": "ce726c0c-8737-4878-dc1f-3f52652018ba"
   },
   "outputs": [],
   "source": [
    "df.groupby('day_of_the_week')['delivery_time'].mean()"
   ]
  },
  {
   "cell_type": "markdown",
   "metadata": {
    "id": "8H-ODxbVJY_W"
   },
   "source": [
    "#### Observations: Delivery time is higher during the weekdays. Weekday delivery time is 28.34 minutes and on weekends the delivery time is 22.47 minutes.\n"
   ]
  },
  {
   "cell_type": "markdown",
   "metadata": {
    "id": "17roJywaJY_W"
   },
   "source": [
    "### Conclusion and Recommendations"
   ]
  },
  {
   "cell_type": "markdown",
   "metadata": {
    "id": "ZdX2Wz4FJY_W"
   },
   "source": [
    "### **Question 17:** What are your conclusions from the analysis? What recommendations would you like to share to help improve the business? (You can use cuisine type and feedback ratings to drive your business recommendations.) [6 marks]"
   ]
  },
  {
   "cell_type": "markdown",
   "metadata": {
    "id": "VTugVsL4Ddz-"
   },
   "source": [
    "### Conclusions:\n",
    "*  It is clear that the majority of orders are being placed on weekends. It is also clear that the majority of orders are being placed from certain cuisines and certain restaurants are far more popular than others because of ratings, food prep time, and delivery time."
   ]
  },
  {
   "cell_type": "markdown",
   "metadata": {
    "id": "PWnsI0i_guWJ"
   },
   "source": [
    "### Recommendations:\n",
    "\n",
    "*  I would recommend to the business to customize ads to customers based on previous orders within the app to get a higher chance of re-order. I would also recommend looking into why certain delivery times are taking a lot longer than others and see if delivery routes can be optimized or if multiple deliveries can be given to a single driver if the customers' live near each other to save delivery time."
   ]
  },
  {
   "cell_type": "markdown",
   "metadata": {
    "id": "tSoucKKbg9Hc"
   },
   "source": [
    "---"
   ]
  }
 ],
 "metadata": {
  "colab": {
   "provenance": []
  },
  "kernelspec": {
   "display_name": "Python 3 (ipykernel)",
   "language": "python",
   "name": "python3"
  },
  "language_info": {
   "codemirror_mode": {
    "name": "ipython",
    "version": 3
   },
   "file_extension": ".py",
   "mimetype": "text/x-python",
   "name": "python",
   "nbconvert_exporter": "python",
   "pygments_lexer": "ipython3",
   "version": "3.12.7"
  }
 },
 "nbformat": 4,
 "nbformat_minor": 4
}
